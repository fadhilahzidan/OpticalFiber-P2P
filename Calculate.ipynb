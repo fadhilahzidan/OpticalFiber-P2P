{
  "nbformat": 4,
  "nbformat_minor": 0,
  "metadata": {
    "colab": {
      "provenance": []
    },
    "kernelspec": {
      "name": "python3",
      "display_name": "Python 3"
    },
    "language_info": {
      "name": "python"
    }
  },
  "cells": [
    {
      "cell_type": "markdown",
      "source": [
        "# PERENCANAAN KOMUNIKASI OPTIK LINK POINT TO POINT (P2P)\n",
        "\n",
        "\n",
        "---\n",
        "\n",
        "\n",
        "#### STO Martapura - STO Landasan Ulin"
      ],
      "metadata": {
        "id": "DOAd3VQe95zq"
      }
    },
    {
      "cell_type": "code",
      "source": [
        "#Library Python\n",
        "from math import log10, sqrt\n",
        "import numpy as np\n",
        "import matplotlib.pyplot as plt"
      ],
      "metadata": {
        "id": "qU2HBUzg9qaE"
      },
      "execution_count": null,
      "outputs": []
    },
    {
      "cell_type": "code",
      "source": [
        "#Kabel SO\n",
        "Jarak = 17.3 #km\n",
        "PanjangFiber = 5 #km\n",
        "DispersiMaterial = 18e-12 #s/km*nm\n",
        "LossFiber = 0.18 #db/km"
      ],
      "metadata": {
        "id": "Y3S5gbTQ-DkN"
      },
      "execution_count": null,
      "outputs": []
    },
    {
      "cell_type": "code",
      "source": [
        "#Transmitter\n",
        "#Ptx = 1 mW , Rumus : Ptx_dB = 10*log10(Ptx) dBm\n",
        "Ptx_dB = 2 #dBm\n",
        "LebarSpektral = 1 #nm\n",
        "Ttx = 2e-9 #s\n",
        "BitRate = 155e6 #Gbps\n",
        "Tb = 1/BitRate #s"
      ],
      "metadata": {
        "id": "QD-1uu_n-D6Y"
      },
      "execution_count": null,
      "outputs": []
    },
    {
      "cell_type": "code",
      "source": [
        "#Receiver\n",
        "Sensitivitas = -34 #dBm\n",
        "Trx = 2e-9 #s"
      ],
      "metadata": {
        "id": "8qbwUc6--Nsb"
      },
      "execution_count": null,
      "outputs": []
    },
    {
      "cell_type": "code",
      "source": [
        "#Redaman Kanal\n",
        "LossKonektor = 0.1 #dB/titik\n",
        "JumlahSplicer = (Jarak/PanjangFiber)-1\n",
        "LossSplicer = 0.1 #dB/titik\n",
        "MarginSistem = 3 #dB"
      ],
      "metadata": {
        "id": "w-g2WdC2-QSF"
      },
      "execution_count": null,
      "outputs": []
    },
    {
      "cell_type": "markdown",
      "source": [
        "LINK POWER BUDGET"
      ],
      "metadata": {
        "id": "wjHAxTcGLBNH"
      }
    },
    {
      "cell_type": "code",
      "source": [
        "#Link Power Budget\n",
        "\n",
        "#Konektor = 2 (P2P)\n",
        "LossTotal = 2 * LossKonektor + JumlahSplicer * LossSplicer + Jarak * LossFiber + MarginSistem\n",
        "Prx = Ptx_dB - LossTotal\n",
        "print(\"Link Power Budget\")\n",
        "print(\"Redaman Kabel : \",LossTotal,\"dB\")\n",
        "\n",
        "#Daya Terima\n",
        "print(\"Daya Terima   : \",Prx,\"dBm\")\n",
        "if Prx > Sensitivitas :\n",
        "    print(\"LPB terpenuhi\")\n",
        "else :\n",
        "    print(\"LPB tidak terpenuhi\")"
      ],
      "metadata": {
        "colab": {
          "base_uri": "https://localhost:8080/"
        },
        "id": "Rin9vo4d-VC3",
        "outputId": "f9b35acc-7913-4d32-c13b-908300d7a392"
      },
      "execution_count": null,
      "outputs": [
        {
          "output_type": "stream",
          "name": "stdout",
          "text": [
            "Link Power Budget\n",
            "Redaman Kabel :  6.5600000000000005 dB\n",
            "Daya Terima   :  -4.5600000000000005 dBm\n",
            "LPB terpenuhi\n"
          ]
        }
      ]
    },
    {
      "cell_type": "code",
      "source": [
        "#Grafik LPB\n",
        "Graph = np.arange(1,120,1)\n",
        "LossTotal = 2 * LossKonektor + JumlahSplicer * JumlahSplicer + Graph * LossFiber + MarginSistem\n",
        "Prx = Ptx_dB - LossTotal\n",
        "plt.plot(Graph,Prx)\n",
        "plt.xlabel(\"Jarak (km)\")\n",
        "plt.ylabel(\"Daya Terima (dBm)\")\n",
        "plt.title(\"Link Power Budget\")\n",
        "plt.show()"
      ],
      "metadata": {
        "colab": {
          "base_uri": "https://localhost:8080/",
          "height": 295
        },
        "id": "0sO9hOes-h_W",
        "outputId": "053143c7-6a38-41a6-8e49-97d2d0518601"
      },
      "execution_count": null,
      "outputs": [
        {
          "output_type": "display_data",
          "data": {
            "image/png": "[encoded data removed]",
            "text/plain": [
              "<Figure size 432x288 with 1 Axes>"
            ]
          },
          "metadata": {
            "needs_background": "light"
          }
        }
      ]
    },
    {
      "cell_type": "markdown",
      "source": [
        "RISE TIME BUDGET"
      ],
      "metadata": {
        "id": "E9xVDbX4LJ_O"
      }
    },
    {
      "cell_type": "code",
      "source": [
        "#Rise Time Budget\n",
        "\n",
        "#Twg = tidak diketahui --> 0\n",
        "#Tmod = 0 (Single Mode)\n",
        "RTMaterial = DispersiMaterial * Jarak * LebarSpektral #s\n",
        "RTSistem = np.sqrt(Ttx ** 2 + RTMaterial ** 2 + 0 ** 2 + 0 ** 2 + Trx ** 2)\n",
        "print(\"Rise Time Budget\")\n",
        "print(\"RTB System : \",RTSistem,\"s\")\n",
        "if (Tb*0.7 > RTSistem) & (Tb*0.35 > RTSistem):\n",
        "    print(\"RTB untuk NRZ dan RZ terpenuhi\")\n",
        "elif (Tb*0.7 > RTSistem):\n",
        "    print(\"RTB untuk NRZ terpenuhi\")\n",
        "elif (Tb*0.35 > RTSistem):\n",
        "    print(\"RTB untuk RZ terpenuhi\")\n",
        "else :\n",
        "    print(\"RTB tidak terpenuhi\")"
      ],
      "metadata": {
        "colab": {
          "base_uri": "https://localhost:8080/"
        },
        "id": "7ekHI8vl-fL5",
        "outputId": "8cd127ff-7259-4cbb-bd2f-85d850ad01ff"
      },
      "execution_count": null,
      "outputs": [
        {
          "output_type": "stream",
          "name": "stdout",
          "text": [
            "Rise Time Budget\n",
            "RTB System :  2.845517520592695e-09 s\n",
            "RTB untuk NRZ terpenuhi\n"
          ]
        }
      ]
    },
    {
      "cell_type": "code",
      "source": [
        "#Grafik RTB\n",
        "RTMaterial = DispersiMaterial * Graph * LebarSpektral #s\n",
        "#Twg = tidak diketahui --> 0\n",
        "#Tmod = 0 (Single Mode)\n",
        "RTSistem = np.sqrt(Ttx ** 2 + RTMaterial ** 2 + 0 ** 2 + 0 ** 2 + Trx ** 2)\n",
        "plt.plot(Graph,RTSistem)\n",
        "plt.xlabel(\"Jarak (km)\")\n",
        "plt.ylabel(\"Dispersi sistem (s)\")\n",
        "plt.title(\"Grafik Rise Time Budget\")\n",
        "plt.show()"
      ],
      "metadata": {
        "colab": {
          "base_uri": "https://localhost:8080/",
          "height": 295
        },
        "id": "wS0502AV-pDz",
        "outputId": "2e2c59ea-3c8b-4e44-a35c-e46c10301c1e"
      },
      "execution_count": null,
      "outputs": [
        {
          "output_type": "display_data",
          "data": {
            "image/png": "[encoded data removed]",
            "text/plain": [
              "<Figure size 432x288 with 1 Axes>"
            ]
          },
          "metadata": {
            "needs_background": "light"
          }
        }
      ]
    }
  ]
}